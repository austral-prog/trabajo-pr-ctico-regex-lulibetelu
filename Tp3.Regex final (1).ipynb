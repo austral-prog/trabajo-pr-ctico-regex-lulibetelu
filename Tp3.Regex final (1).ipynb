{
 "cells": [
  {
   "cell_type": "code",
   "execution_count": 56,
   "id": "98bce14f-98b2-4855-99c3-284c9f0f1322",
   "metadata": {},
   "outputs": [],
   "source": [
    "import re\n",
    "\n",
    "s = \"\"\"\n",
    "\n",
    "Once upon a time, in the enchanted land of Regexville, there lived a group of intrepid explorers.\n",
    "Their leader, Alice, was known for her love of adventure and her trusty email address, alice@example.com.\n",
    "Her phone number, 123-456-7890, was her lifeline in times of trouble.\n",
    "One day, Alice received a mysterious letter with today's date: 08/10/2023. The letter hinted at an upcoming quest.\n",
    "The explorers gathered at the local inn, where they found a weathered map marked with a hashtag: #adventure.\n",
    "The map pointed to a hidden treasure on the website https://www.treasurehunt.com. The inn's address was 123 Main Street, Regexville, ZIP: 12345-6789.\n",
    "Their journey took them through the ancient forest, where they stumbled upon a cave with cryptic inscriptions:\n",
    "\"Python is amazing!\" and \"Java is equally fascinating!\" The explorers knew they were on the right path.\n",
    "Inside the cave, they found a device with the IP address 192.168.1.1 and a MAC addres of 00-B0-D0-63-C2-26, which held valuable clues.\n",
    "\n",
    "Among the explorers, there was a wordsmith who loved finding words with three consecutive vowels:\n",
    "\"boasting,\" \"quizzical,\" \"genuine,\" and \"queue\" were some of his favorites.\n",
    "As they continued their adventure, they encountered Lorem Ipsum, a lorem ipsum generator who spoke in Latin:\n",
    "\"Lorem ipsum dolor sit amet, consectetur adipiscing elit.\"\n",
    "In their pursuit, they stumbled upon an ancient book with mysterious ISBN-10 and ISBN-13 numbers:\n",
    "ISBN-10: 123456789X and ISBN-13: 978-1234567890.\n",
    "Their journey was filled with unexpected twists and turns, much like the regex patterns they used to decipher clues.\n",
    "After a long day, the explorers gathered around a campfire, sharing tales of their encounters. They realized that every step of their adventure was a puzzle waiting to be solved, just like the regex challenges they had conquered.\n",
    "As they drifted off to sleep under a starlit sky, they knew that their quest for treasure and knowledge had only just begun, and the magic of Regexville would continue to guide their way.\n",
    "\n",
    "\"\"\""
   ]
  },
  {
   "cell_type": "markdown",
   "id": "514f802a-9b85-4457-80b4-b53623832bb2",
   "metadata": {},
   "source": [
    "#### Write a Python program that matches and prints all words that start with the letter 'A' in a given text."
   ]
  },
  {
   "cell_type": "code",
   "execution_count": 57,
   "id": "db4c55db-2416-43bc-83b3-07eea37df2d7",
   "metadata": {
    "scrolled": true
   },
   "outputs": [
    {
     "name": "stdout",
     "output_type": "stream",
     "text": [
      "['Alice', 'Alice', 'AC', 'Among', 'As', 'After', 'As']\n"
     ]
    }
   ],
   "source": [
    "words =re.findall(r\"[A]\\w+\", s)\n",
    "print(words)"
   ]
  },
  {
   "cell_type": "markdown",
   "id": "964905ba-bcb1-4c2e-9a21-224e68728094",
   "metadata": {},
   "source": [
    "#### Create a Python program to validate email addresses. The program should check if a given string is a valid email address or not."
   ]
  },
  {
   "cell_type": "code",
   "execution_count": 58,
   "id": "4b499ed5-e972-4116-a721-dbfb29e781d5",
   "metadata": {},
   "outputs": [
    {
     "name": "stdout",
     "output_type": "stream",
     "text": [
      "['alice@example.com']\n"
     ]
    }
   ],
   "source": [
    "email =re.findall(r\"\\w+@\\w+\\.\\w+\", s)\n",
    "print(email)"
   ]
  },
  {
   "cell_type": "markdown",
   "id": "9e6e0450-214b-40c6-a474-6dff2c41ee43",
   "metadata": {},
   "source": [
    "#### Write a Python program to find and count all the digits in a given text."
   ]
  },
  {
   "cell_type": "code",
   "execution_count": 59,
   "id": "ec71a1d9-d971-4119-9124-a3f993069eeb",
   "metadata": {},
   "outputs": [
    {
     "name": "stdout",
     "output_type": "stream",
     "text": [
      "77\n"
     ]
    }
   ],
   "source": [
    "digits =re.findall(r\"\\d\", s)\n",
    "cantidad =len(digits)\n",
    "print(cantidad)"
   ]
  },
  {
   "cell_type": "markdown",
   "id": "5ba7033a-f85c-4ff9-9696-1a069beda9fb",
   "metadata": {},
   "source": [
    "#### Create a Python program that extracts all the URLs (http:// or https://) from a given text."
   ]
  },
  {
   "cell_type": "code",
   "execution_count": 60,
   "id": "084f2eb3-e67c-45bd-8460-b113b6794e82",
   "metadata": {},
   "outputs": [
    {
     "name": "stdout",
     "output_type": "stream",
     "text": [
      "['https://www.treasurehunt.com']\n"
     ]
    }
   ],
   "source": [
    "url =re.findall(r\"http?s://.+.com\", s)\n",
    "print(url)"
   ]
  },
  {
   "cell_type": "markdown",
   "id": "04664806-5191-4a7a-bb82-be8cd0e9a77c",
   "metadata": {},
   "source": [
    "#### Write a Python program that extracts all the phone numbers (in the format xxx-xxx-xxxx) from a given text."
   ]
  },
  {
   "cell_type": "code",
   "execution_count": 61,
   "id": "a88f57ea-c034-49e3-9586-bcf1a9b795f8",
   "metadata": {},
   "outputs": [
    {
     "name": "stdout",
     "output_type": "stream",
     "text": [
      "['123-456-7890']\n"
     ]
    }
   ],
   "source": [
    "phone=re.findall(r\"\\d{3}-\\d{3}-\\d{4}\", s)\n",
    "print(phone)"
   ]
  },
  {
   "cell_type": "markdown",
   "id": "9601a4e1-beee-4c81-8f64-b8794c73d593",
   "metadata": {},
   "source": [
    "#### Write a Python program that replaces all occurrences of \"Python\" with \"Java\" in a given text."
   ]
  },
  {
   "cell_type": "code",
   "execution_count": 62,
   "id": "fc8577e1-8f37-4c29-91f1-314736687689",
   "metadata": {},
   "outputs": [
    {
     "name": "stdout",
     "output_type": "stream",
     "text": [
      "\n",
      "\n",
      "Once upon a time, in the enchanted land of Regexville, there lived a group of intrepid explorers.\n",
      "Their leader, Alice, was known for her love of adventure and her trusty email address, alice@example.com.\n",
      "Her phone number, 123-456-7890, was her lifeline in times of trouble.\n",
      "One day, Alice received a mysterious letter with today's date: 08/10/2023. The letter hinted at an upcoming quest.\n",
      "The explorers gathered at the local inn, where they found a weathered map marked with a hashtag: #adventure.\n",
      "The map pointed to a hidden treasure on the website https://www.treasurehunt.com. The inn's address was 123 Main Street, Regexville, ZIP: 12345-6789.\n",
      "Their journey took them through the ancient forest, where they stumbled upon a cave with cryptic inscriptions:\n",
      "\"Java is amazing!\" and \"Java is equally fascinating!\" The explorers knew they were on the right path.\n",
      "Inside the cave, they found a device with the IP address 192.168.1.1 and a MAC addres of 00-B0-D0-63-C2-26, which held valuable clues.\n",
      "\n",
      "Among the explorers, there was a wordsmith who loved finding words with three consecutive vowels:\n",
      "\"boasting,\" \"quizzical,\" \"genuine,\" and \"queue\" were some of his favorites.\n",
      "As they continued their adventure, they encountered Lorem Ipsum, a lorem ipsum generator who spoke in Latin:\n",
      "\"Lorem ipsum dolor sit amet, consectetur adipiscing elit.\"\n",
      "In their pursuit, they stumbled upon an ancient book with mysterious ISBN-10 and ISBN-13 numbers:\n",
      "ISBN-10: 123456789X and ISBN-13: 978-1234567890.\n",
      "Their journey was filled with unexpected twists and turns, much like the regex patterns they used to decipher clues.\n",
      "After a long day, the explorers gathered around a campfire, sharing tales of their encounters. They realized that every step of their adventure was a puzzle waiting to be solved, just like the regex challenges they had conquered.\n",
      "As they drifted off to sleep under a starlit sky, they knew that their quest for treasure and knowledge had only just begun, and the magic of Regexville would continue to guide their way.\n",
      "\n",
      "\n"
     ]
    }
   ],
   "source": [
    "print(re.sub(r\"Python\",\"Java\", s))"
   ]
  },
  {
   "cell_type": "markdown",
   "id": "7b4927c7-aeaa-45b3-b188-bdeffad10427",
   "metadata": {},
   "source": [
    "#### Create a Python program to validate US ZIP codes (5 digits, optional hyphen, followed by 4 more digits)."
   ]
  },
  {
   "cell_type": "code",
   "execution_count": 63,
   "id": "1a47bad6-3a06-42d4-a8fb-5b68b9b91173",
   "metadata": {},
   "outputs": [
    {
     "name": "stdout",
     "output_type": "stream",
     "text": [
      "['12345-6789', '123456789', '123456789']\n"
     ]
    }
   ],
   "source": [
    "zip=re.findall(r\"\\d{5}-?\\d{4}\", s)\n",
    "print(zip)"
   ]
  },
  {
   "cell_type": "markdown",
   "id": "3fae7411-88ab-4d0f-8f90-300455f8b0f2",
   "metadata": {},
   "source": [
    "#### Write a Python program that extracts all the words with 3 or more consecutive vowels from a given text."
   ]
  },
  {
   "cell_type": "code",
   "execution_count": 64,
   "id": "8c582872-3f44-46e1-b3d5-c185a248cedb",
   "metadata": {},
   "outputs": [
    {
     "name": "stdout",
     "output_type": "stream",
     "text": [
      "['mysterious', 'queue', 'mysterious']\n"
     ]
    }
   ],
   "source": [
    "vowels=re.findall(r\"\\w+[a,e,i,o,u][a,e,i,o,u][a,e,i,o,u]\\w+\", s)\n",
    "print(vowels)"
   ]
  },
  {
   "cell_type": "markdown",
   "id": "7d03b484-4ed5-4873-95a1-6968d5001479",
   "metadata": {},
   "source": [
    "#### Write a Python program that extracts all the words that are enclosed in double quotes in a given text."
   ]
  },
  {
   "cell_type": "code",
   "execution_count": 65,
   "id": "b3ccfe62-4b3c-4ead-89f7-e33b52dd43c2",
   "metadata": {},
   "outputs": [
    {
     "name": "stdout",
     "output_type": "stream",
     "text": [
      "['\"Python is amazing!\" and \"Java is equally fascinating!\"', '\"boasting,\" \"quizzical,\" \"genuine,\" and \"queue\"', '\"Lorem ipsum dolor sit amet, consectetur adipiscing elit.\"']\n"
     ]
    }
   ],
   "source": [
    "quotes=re.findall(r'[\"].+[\"]', s)\n",
    "print(quotes)"
   ]
  },
  {
   "cell_type": "markdown",
   "id": "e6cb2b73-c45b-4b28-8610-57d9304ddfe5",
   "metadata": {},
   "source": [
    "#### Create a Python program that extracts all the dates in the format \"dd/mm/yyyy\" from a given text."
   ]
  },
  {
   "cell_type": "code",
   "execution_count": 66,
   "id": "cf67cec5-9f4a-42ac-866f-4f28111d2f1f",
   "metadata": {},
   "outputs": [
    {
     "name": "stdout",
     "output_type": "stream",
     "text": [
      "['08/10/2023']\n"
     ]
    }
   ],
   "source": [
    "dates=re.findall(r\"\\d{2}/\\d{2}/\\d{4}\", s)\n",
    "print(dates)"
   ]
  },
  {
   "cell_type": "markdown",
   "id": "bc8cd00e-ce8e-4ef3-a20e-e3714464a827",
   "metadata": {},
   "source": [
    "#### Write a Python program that extracts all the words that contain only lowercase letters from a given text."
   ]
  },
  {
   "cell_type": "code",
   "execution_count": 67,
   "id": "67e053c3-c06c-490d-83d2-13d5873df074",
   "metadata": {},
   "outputs": [
    {
     "name": "stdout",
     "output_type": "stream",
     "text": [
      "['upon', 'a', 'time', 'in', 'the', 'enchanted', 'land', 'of', 'there', 'lived', 'a', 'group', 'of', 'intrepid', 'explorers', 'leader', 'was', 'known', 'for', 'her', 'love', 'of', 'adventure', 'and', 'her', 'trusty', 'email', 'address', 'alice', 'example', 'com', 'phone', 'number', 'was', 'her', 'lifeline', 'in', 'times', 'of', 'trouble', 'day', 'received', 'a', 'mysterious', 'letter', 'with', 'today', 's', 'date', 'letter', 'hinted', 'at', 'an', 'upcoming', 'quest', 'explorers', 'gathered', 'at', 'the', 'local', 'inn', 'where', 'they', 'found', 'a', 'weathered', 'map', 'marked', 'with', 'a', 'hashtag', 'adventure', 'map', 'pointed', 'to', 'a', 'hidden', 'treasure', 'on', 'the', 'website', 'https', 'www', 'treasurehunt', 'com', 'inn', 's', 'address', 'was', 'journey', 'took', 'them', 'through', 'the', 'ancient', 'forest', 'where', 'they', 'stumbled', 'upon', 'a', 'cave', 'with', 'cryptic', 'inscriptions', 'is', 'amazing', 'and', 'is', 'equally', 'fascinating', 'explorers', 'knew', 'they', 'were', 'on', 'the', 'right', 'path', 'the', 'cave', 'they', 'found', 'a', 'device', 'with', 'the', 'address', 'and', 'a', 'addres', 'of', 'which', 'held', 'valuable', 'clues', 'the', 'explorers', 'there', 'was', 'a', 'wordsmith', 'who', 'loved', 'finding', 'words', 'with', 'three', 'consecutive', 'vowels', 'boasting', 'quizzical', 'genuine', 'and', 'queue', 'were', 'some', 'of', 'his', 'favorites', 'they', 'continued', 'their', 'adventure', 'they', 'encountered', 'a', 'lorem', 'ipsum', 'generator', 'who', 'spoke', 'in', 'ipsum', 'dolor', 'sit', 'amet', 'consectetur', 'adipiscing', 'elit', 'their', 'pursuit', 'they', 'stumbled', 'upon', 'an', 'ancient', 'book', 'with', 'mysterious', 'and', 'numbers', 'and', 'journey', 'was', 'filled', 'with', 'unexpected', 'twists', 'and', 'turns', 'much', 'like', 'the', 'regex', 'patterns', 'they', 'used', 'to', 'decipher', 'clues', 'a', 'long', 'day', 'the', 'explorers', 'gathered', 'around', 'a', 'campfire', 'sharing', 'tales', 'of', 'their', 'encounters', 'realized', 'that', 'every', 'step', 'of', 'their', 'adventure', 'was', 'a', 'puzzle', 'waiting', 'to', 'be', 'solved', 'just', 'like', 'the', 'regex', 'challenges', 'they', 'had', 'conquered', 'they', 'drifted', 'off', 'to', 'sleep', 'under', 'a', 'starlit', 'sky', 'they', 'knew', 'that', 'their', 'quest', 'for', 'treasure', 'and', 'knowledge', 'had', 'only', 'just', 'begun', 'and', 'the', 'magic', 'of', 'would', 'continue', 'to', 'guide', 'their', 'way']\n"
     ]
    }
   ],
   "source": [
    "lowercase=re.findall(r\"\\b[a-za-z]+\\b\", s)\n",
    "print(lowercase)"
   ]
  },
  {
   "cell_type": "markdown",
   "id": "27138953-f3d8-4e8e-b94f-9cf60043cb76",
   "metadata": {},
   "source": [
    "#### Create a Python program that finds and prints all the hashtags (words starting with #) in a given text."
   ]
  },
  {
   "cell_type": "code",
   "execution_count": 68,
   "id": "93e50146-3390-46d7-8440-23dc4f0b5e5f",
   "metadata": {},
   "outputs": [
    {
     "name": "stdout",
     "output_type": "stream",
     "text": [
      "['#adventure']\n"
     ]
    }
   ],
   "source": [
    "hashtag=re.findall(r\"#\\w+\", s)\n",
    "print(hashtag)"
   ]
  },
  {
   "cell_type": "markdown",
   "id": "b73f8a8f-320a-44d7-95ee-587e48bffd17",
   "metadata": {},
   "source": [
    "#### Create a Python program to validate and extract ISBN-10 and ISBN-13 numbers from a given text."
   ]
  },
  {
   "cell_type": "code",
   "execution_count": 69,
   "id": "cf458093-044e-47f8-bdac-4d8ce22669ee",
   "metadata": {},
   "outputs": [
    {
     "name": "stdout",
     "output_type": "stream",
     "text": [
      "['123456789X', '978-1234567890']\n"
     ]
    }
   ],
   "source": [
    "isbn=re.findall(r\"\\d{9}.{1}|\\d{3}-\\d{10}\", s)\n",
    "print(isbn)"
   ]
  },
  {
   "cell_type": "markdown",
   "id": "3c9198be-8c2c-446d-8ad8-ae462af90a80",
   "metadata": {},
   "source": [
    "#### Write a Python program that extracts all the words that are exactly 5 characters long from a given text."
   ]
  },
  {
   "cell_type": "code",
   "execution_count": 70,
   "id": "8f44b3b6-be95-48ab-af59-e7bc2c26a652",
   "metadata": {},
   "outputs": [
    {
     "name": "stdout",
     "output_type": "stream",
     "text": [
      "['there', 'lived', 'group', 'Their', 'Alice', 'known', 'email', 'alice', 'phone', 'times', 'Alice', 'today', 'quest', 'local', 'where', 'found', 'https', 'Their', 'where', 'right', 'found', 'which', 'clues', 'Among', 'there', 'loved', 'words', 'three', 'queue', 'their', 'Lorem', 'Ipsum', 'lorem', 'ipsum', 'spoke', 'Latin', 'Lorem', 'ipsum', 'dolor', 'their', 'Their', 'turns', 'regex', 'clues', 'After', 'tales', 'their', 'every', 'their', 'regex', 'sleep', 'under', 'their', 'quest', 'begun', 'magic', 'would', 'guide', 'their']\n"
     ]
    }
   ],
   "source": [
    "characters=re.findall(r\"\\b[a-zA-Z]{5}\\b\",s)\n",
    "print(characters)"
   ]
  },
  {
   "cell_type": "markdown",
   "id": "d19b4948-59f5-4d3d-9875-7f0f7e5ac60d",
   "metadata": {},
   "source": [
    "#### Create a Python program to validate and extract IPv4 addresses from a given text."
   ]
  },
  {
   "cell_type": "code",
   "execution_count": 71,
   "id": "2a0082f4-c83b-44fc-a710-ae0dab06bc1d",
   "metadata": {},
   "outputs": [
    {
     "name": "stdout",
     "output_type": "stream",
     "text": [
      "['192.168.1.1']\n"
     ]
    }
   ],
   "source": [
    "address=re.findall(r\"\\d{3}\\.\\d{3}\\.\\d+.\\d+\", s)\n",
    "print(address)"
   ]
  },
  {
   "cell_type": "markdown",
   "id": "9ce5f531-325b-4611-a5c3-b3b98d9eecf3",
   "metadata": {},
   "source": [
    "#### Write a Python program that extracts all the words that end with \"ing\" from a given text."
   ]
  },
  {
   "cell_type": "code",
   "execution_count": 72,
   "id": "65481a0a-c36c-4b2a-a354-0393c98520cc",
   "metadata": {},
   "outputs": [
    {
     "name": "stdout",
     "output_type": "stream",
     "text": [
      "['upcoming', 'amazing', 'fascinating', 'finding', 'boasting', 'adipiscing', 'sharing', 'waiting']\n"
     ]
    }
   ],
   "source": [
    "ing=re.findall(r\"\\w+ing\", s)\n",
    "print(ing)"
   ]
  },
  {
   "cell_type": "markdown",
   "id": "9c26f081-895f-487a-bb3b-b416804dc542",
   "metadata": {},
   "source": [
    "#### Create a Python program to validate and extract MAC addresses (in the format XX:XX:XX:XX:XX:XX) from a given text."
   ]
  },
  {
   "cell_type": "code",
   "execution_count": 73,
   "id": "e486f015-f9d6-491a-9caf-57fa44aa3a67",
   "metadata": {},
   "outputs": [
    {
     "name": "stdout",
     "output_type": "stream",
     "text": [
      "['00-B0-D0-63-C2-26']\n"
     ]
    }
   ],
   "source": [
    "MAC=re.findall(r\"\\w{2}-\\w{2}-\\w{2}-\\w{2}-\\w{2}-\\w{2}\", s)\n",
    "print(MAC)"
   ]
  },
  {
   "cell_type": "markdown",
   "id": "37b9c5e5-c924-4ec6-9d57-744ce1ac847e",
   "metadata": {},
   "source": [
    "#### Create a Python program to find all words that are before and after an 'and' from a given text. (x and y)"
   ]
  },
  {
   "cell_type": "code",
   "execution_count": 74,
   "id": "27aba3cb-09f4-4ceb-be54-9e21e604f111",
   "metadata": {},
   "outputs": [
    {
     "name": "stdout",
     "output_type": "stream",
     "text": [
      "['adventure and her', 'X and ISBN', 'twists and turns', 'treasure and knowledge']\n"
     ]
    }
   ],
   "source": [
    "text=re.findall(r\"[a-zA-Z]+\\sand\\s[a-zA-Z]+\", s)\n",
    "print(text)"
   ]
  },
  {
   "cell_type": "markdown",
   "id": "ce3d01c3-8fe8-4d6e-8e83-4ea1e66dc087",
   "metadata": {},
   "source": [
    "#### Create a Python program to find all words from a given text that start and end with the same letter and it is not a vowel"
   ]
  },
  {
   "cell_type": "code",
   "execution_count": 78,
   "id": "5ef5bda8-2a14-4926-a55b-52c7823040f3",
   "metadata": {},
   "outputs": [
    {
     "name": "stdout",
     "output_type": "stream",
     "text": [
      "['adventure and her', 'X and ISBN', 'twists and turns', 'treasure and knowledge']\n"
     ]
    }
   ],
   "source": [
    "letter=re.findall(r\"[a-z|A-Z]+\\sand\\s[a-z|A-Z]+\", s)\n",
    "print(letter)"
   ]
  },
  {
   "cell_type": "markdown",
   "id": "d2a6a8a7-39ff-4701-a76a-893edacf09d4",
   "metadata": {},
   "source": [
    "#### Create a Python program to find all \"lorem ipsum\" appearences (not cap sensitive) from a given text."
   ]
  },
  {
   "cell_type": "code",
   "execution_count": 76,
   "id": "9e1e2c76-1f75-4a95-b504-ca9733434ed2",
   "metadata": {},
   "outputs": [
    {
     "name": "stdout",
     "output_type": "stream",
     "text": [
      "['Lorem Ipsum', 'lorem ipsum', 'Lorem ipsum']\n"
     ]
    }
   ],
   "source": [
    "lorem=re.findall(r\"[l|L][o|O][r|R][e|E][m|M]\\s[i|I][p|P][s|S][u|U][m|M]\", s)\n",
    "print(lorem)"
   ]
  },
  {
   "cell_type": "markdown",
   "id": "d741ac2a-3698-4990-9fbf-d5e95ae9aa93",
   "metadata": {},
   "source": [
    "#### Create a Python program to find all repeating equal consonants from a given text. (nn,tt ...)"
   ]
  },
  {
   "cell_type": "code",
   "execution_count": 77,
   "id": "ccc427d6-3b78-404c-9de2-32faf27a7c1c",
   "metadata": {},
   "outputs": [
    {
     "name": "stdout",
     "output_type": "stream",
     "text": [
      "['l', 'd', 's', 't', 't', 'n', 'd', 't', 'w', 'n', 'd', 's', 'l', 'l', 'd', 's', 'd', '0', 'z', 'l', 't', 'z', 'l', 'f', 'l']\n"
     ]
    }
   ],
   "source": [
    "consonants=re.findall(r\"([^aeiouAEIOU\\s/])\\1\", s)\n",
    "print(consonants)"
   ]
  }
 ],
 "metadata": {
  "kernelspec": {
   "display_name": "Python 3 (ipykernel)",
   "language": "python",
   "name": "python3"
  },
  "language_info": {
   "codemirror_mode": {
    "name": "ipython",
    "version": 3
   },
   "file_extension": ".py",
   "mimetype": "text/x-python",
   "name": "python",
   "nbconvert_exporter": "python",
   "pygments_lexer": "ipython3",
   "version": "3.12.2"
  }
 },
 "nbformat": 4,
 "nbformat_minor": 5
}
